{
 "cells": [
  {
   "cell_type": "code",
   "execution_count": 1,
   "metadata": {},
   "outputs": [],
   "source": [
    "import pandas as pd\n",
    "import numpy as np\n",
    "import seaborn as sns\n",
    "import matplotlib.pyplot as plt\n",
    "%matplotlib inline\n",
    "import re  \n",
    "import nltk\n",
    "import string\n",
    "from bs4 import BeautifulSoup\n",
    "from nltk import sent_tokenize, word_tokenize\n",
    "from nltk.stem.snowball import SnowballStemmer\n",
    "from nltk.stem.wordnet import WordNetLemmatizer\n",
    "from nltk.corpus import stopwords\n",
    "from nltk.tokenize import RegexpTokenizer\n",
    "from textblob import TextBlob"
   ]
  },
  {
   "cell_type": "code",
   "execution_count": 2,
   "metadata": {},
   "outputs": [],
   "source": [
    "df = pd.read_csv('asos_transform.csv')"
   ]
  },
  {
   "cell_type": "code",
   "execution_count": 3,
   "metadata": {},
   "outputs": [
    {
     "data": {
      "text/plain": [
       "\"Rebecca was patient and helpful with my queries, though there seems to be some logistic issues with ASOS delivery. I've only received 1 out of the 4 parcels that were deemed to be delivered on the same day.\""
      ]
     },
     "execution_count": 3,
     "metadata": {},
     "output_type": "execute_result"
    }
   ],
   "source": [
    "df['Contents'][4]"
   ]
  },
  {
   "cell_type": "code",
   "execution_count": 4,
   "metadata": {},
   "outputs": [],
   "source": [
    "def remove_punctuation(text):\n",
    "    no_punct=\"\".join([c for c in text if c not in string.punctuation])\n",
    "    return no_punct"
   ]
  },
  {
   "cell_type": "code",
   "execution_count": 5,
   "metadata": {},
   "outputs": [
    {
     "data": {
      "text/plain": [
       "0    I love ASOS and allCustomer service they are j...\n",
       "1    My order was left outside and the school kids ...\n",
       "2                           Helpful and friendly staff\n",
       "3    Replied quickly and made sure their customers ...\n",
       "4    Rebecca was patient and helpful with my querie...\n",
       "Name: Contents, dtype: object"
      ]
     },
     "execution_count": 5,
     "metadata": {},
     "output_type": "execute_result"
    }
   ],
   "source": [
    "df['Contents'] = df['Contents'].apply(lambda x: remove_punctuation(x))\n",
    "df['Contents'].head()"
   ]
  },
  {
   "cell_type": "code",
   "execution_count": 6,
   "metadata": {},
   "outputs": [],
   "source": [
    "tokenizer = RegexpTokenizer(r'\\w+')"
   ]
  },
  {
   "cell_type": "code",
   "execution_count": 7,
   "metadata": {},
   "outputs": [
    {
     "data": {
      "text/plain": [
       "0     [i, love, asos, and, allcustomer, service, the...\n",
       "1     [my, order, was, left, outside, and, the, scho...\n",
       "2                       [helpful, and, friendly, staff]\n",
       "3     [replied, quickly, and, made, sure, their, cus...\n",
       "4     [rebecca, was, patient, and, helpful, with, my...\n",
       "5     [fast, kind, clear, answer, perfect, that, i, ...\n",
       "6     [it, took, over, 20, minutes, to, be, connecte...\n",
       "7     [terrible, firm, i, had, such, a, bad, time, t...\n",
       "8                   [very, helpful, clear, and, prompt]\n",
       "9     [ordered, a, vivienne, westwood, which, was, d...\n",
       "10    [terrible, paid, for, next, day, delivery, and...\n",
       "11                               [excellent, and, easy]\n",
       "12    [renee, at, asos, was, very, friendly, and, pr...\n",
       "13    [items, ordered, on, 112, on, standard, 35, da...\n",
       "14    [terrible, experience, courier, left, my, parc...\n",
       "15    [no, customer, support, at, allleave, your, me...\n",
       "16    [i, had, issue, with, the, delivery, of, my, o...\n",
       "17    [my, issue, remains, unresolved, and, i, have,...\n",
       "18    [had, an, issue, with, delivery, but, was, sor...\n",
       "19    [awful, experience, no, help, at, all, will, n...\n",
       "Name: Contents, dtype: object"
      ]
     },
     "execution_count": 7,
     "metadata": {},
     "output_type": "execute_result"
    }
   ],
   "source": [
    "df['Contents']=df['Contents'].apply(lambda x: tokenizer.tokenize(x.lower()))\n",
    "df['Contents'].head(20)"
   ]
  },
  {
   "cell_type": "code",
   "execution_count": 8,
   "metadata": {},
   "outputs": [],
   "source": [
    "def remove_stopwords(text):\n",
    "    words = [w for w in text if w not in stopwords.words('english')]\n",
    "    return words"
   ]
  },
  {
   "cell_type": "code",
   "execution_count": 9,
   "metadata": {},
   "outputs": [
    {
     "data": {
      "text/plain": [
       "0         [love, asos, allcustomer, service, adorable]\n",
       "1    [order, left, outside, school, kids, ransacked...\n",
       "2                           [helpful, friendly, staff]\n",
       "3     [replied, quickly, made, sure, customers, happy]\n",
       "4    [rebecca, patient, helpful, queries, though, s...\n",
       "5    [fast, kind, clear, answer, perfect, love, aso...\n",
       "6    [took, 20, minutes, connected, online, chat, s...\n",
       "7    [terrible, firm, bad, time, trying, get, deliv...\n",
       "8                             [helpful, clear, prompt]\n",
       "9    [ordered, vivienne, westwood, delivered, time,...\n",
       "Name: Contents, dtype: object"
      ]
     },
     "execution_count": 9,
     "metadata": {},
     "output_type": "execute_result"
    }
   ],
   "source": [
    "df['Contents']= df['Contents'].apply(lambda x : remove_stopwords(x))\n",
    "df['Contents'].head(10)"
   ]
  },
  {
   "cell_type": "code",
   "execution_count": 10,
   "metadata": {},
   "outputs": [],
   "source": [
    "def remove_asos(text):\n",
    "    asos = ['asos']\n",
    "    words = [w for w in text if w not in asos]\n",
    "    return words"
   ]
  },
  {
   "cell_type": "code",
   "execution_count": 11,
   "metadata": {},
   "outputs": [
    {
     "data": {
      "text/plain": [
       "0               [love, allcustomer, service, adorable]\n",
       "1    [order, left, outside, school, kids, ransacked...\n",
       "2                           [helpful, friendly, staff]\n",
       "3     [replied, quickly, made, sure, customers, happy]\n",
       "4    [rebecca, patient, helpful, queries, though, s...\n",
       "5    [fast, kind, clear, answer, perfect, love, ser...\n",
       "6    [took, 20, minutes, connected, online, chat, s...\n",
       "7    [terrible, firm, bad, time, trying, get, deliv...\n",
       "8                             [helpful, clear, prompt]\n",
       "9    [ordered, vivienne, westwood, delivered, time,...\n",
       "Name: Contents, dtype: object"
      ]
     },
     "execution_count": 11,
     "metadata": {},
     "output_type": "execute_result"
    }
   ],
   "source": [
    "df['Contents']= df['Contents'].apply(lambda x : remove_asos(x))\n",
    "df['Contents'].head(10)"
   ]
  },
  {
   "cell_type": "code",
   "execution_count": 12,
   "metadata": {},
   "outputs": [],
   "source": [
    "#Instatiate Stemmer\n",
    "stemmer = SnowballStemmer('english')"
   ]
  },
  {
   "cell_type": "code",
   "execution_count": 13,
   "metadata": {},
   "outputs": [],
   "source": [
    "def word_stemmer(text):\n",
    "    stem_text = \" \".join([stemmer.stem(i) for i in text])\n",
    "    return stem_text"
   ]
  },
  {
   "cell_type": "code",
   "execution_count": 14,
   "metadata": {},
   "outputs": [
    {
     "data": {
      "text/plain": [
       "0                           love allcustom servic ador\n",
       "1    order left outsid school kid ransack howev her...\n",
       "2                                    help friend staff\n",
       "3                   repli quick made sure custom happi\n",
       "4    rebecca patient help queri though seem logist ...\n",
       "5           fast kind clear answer perfect love servic\n",
       "6    took 20 minut connect onlin chat servic upon w...\n",
       "7    terribl firm bad time tri get deliv wont use u...\n",
       "8                                    help clear prompt\n",
       "9    order vivienn westwood deliv time arriv seal w...\n",
       "Name: Contents, dtype: object"
      ]
     },
     "execution_count": 14,
     "metadata": {},
     "output_type": "execute_result"
    }
   ],
   "source": [
    "df['Contents']=df['Contents'].apply(lambda x:word_stemmer(x))\n",
    "df['Contents'].head(10)"
   ]
  },
  {
   "cell_type": "code",
   "execution_count": 15,
   "metadata": {},
   "outputs": [
    {
     "data": {
      "text/plain": [
       "0       0.500000\n",
       "1       0.200000\n",
       "2       0.000000\n",
       "3       0.416667\n",
       "4       0.000000\n",
       "5       0.480000\n",
       "6      -0.400000\n",
       "7      -0.366667\n",
       "8       0.100000\n",
       "9       0.077381\n",
       "10      0.000000\n",
       "11      0.000000\n",
       "12      0.800000\n",
       "13      0.112500\n",
       "14     -0.051948\n",
       "15      0.000000\n",
       "16      0.136364\n",
       "17      0.000000\n",
       "18      0.333333\n",
       "19      0.000000\n",
       "20      0.000000\n",
       "21     -0.275000\n",
       "22     -0.100000\n",
       "23      0.141667\n",
       "24      0.000000\n",
       "25      0.000000\n",
       "26      0.516667\n",
       "27      0.200000\n",
       "28      0.000000\n",
       "29     -0.033333\n",
       "          ...   \n",
       "1970    0.000000\n",
       "1971    0.400000\n",
       "1972    0.600000\n",
       "1973   -0.333333\n",
       "1974    0.000000\n",
       "1975    0.300000\n",
       "1976    0.083333\n",
       "1977    0.000000\n",
       "1978    0.411111\n",
       "1979    0.800000\n",
       "1980    0.000000\n",
       "1981    0.800000\n",
       "1982    0.800000\n",
       "1983    0.312121\n",
       "1984    0.000000\n",
       "1985    0.000000\n",
       "1986    0.000000\n",
       "1987    0.600000\n",
       "1988    0.136364\n",
       "1989    0.000000\n",
       "1990    0.566667\n",
       "1991    1.000000\n",
       "1992    0.800000\n",
       "1993    0.500000\n",
       "1994    0.433333\n",
       "1995    0.318182\n",
       "1996    0.800000\n",
       "1997    0.200000\n",
       "1998    0.000000\n",
       "1999    0.000000\n",
       "Name: Contents, Length: 2000, dtype: float64"
      ]
     },
     "execution_count": 15,
     "metadata": {},
     "output_type": "execute_result"
    }
   ],
   "source": [
    "df_results = df['Contents'].apply(lambda x: TextBlob(x).polarity)\n",
    "df_results"
   ]
  },
  {
   "cell_type": "code",
   "execution_count": 16,
   "metadata": {},
   "outputs": [
    {
     "data": {
      "text/plain": [
       "452.92346125222764"
      ]
     },
     "execution_count": 16,
     "metadata": {},
     "output_type": "execute_result"
    }
   ],
   "source": [
    "df_results.sum()"
   ]
  },
  {
   "cell_type": "code",
   "execution_count": 17,
   "metadata": {},
   "outputs": [
    {
     "data": {
      "image/png": "[encoded data removed]",
      "text/plain": [
       "<Figure size 720x720 with 1 Axes>"
      ]
     },
     "metadata": {
      "needs_background": "light"
     },
     "output_type": "display_data"
    }
   ],
   "source": [
    "bloblist_tags = list()\n",
    "\n",
    "df_str =df['Contents']\n",
    "for row in df_str:\n",
    "    blob = TextBlob(row)\n",
    "    bloblist_tags.append((row,blob.sentiment.polarity, blob.sentiment.subjectivity))\n",
    "    df_str = pd.DataFrame(bloblist_tags, columns = ['sentence','sentiment','polarity'])\n",
    "\n",
    "def f_tags(df_str):\n",
    "    if df_str['sentiment'] > 0:\n",
    "        val = \"Positive\"\n",
    "    elif df_str['sentiment'] == 0:\n",
    "        val = \"Neutral\"\n",
    "    else:\n",
    "        val = \"Negative\"\n",
    "    return val\n",
    "\n",
    "df_str['Sentiment_Type'] = df_str.apply(f_tags, axis=1)\n",
    "\n",
    "plt.figure(figsize=(10,10))\n",
    "sns.set_style(\"whitegrid\")\n",
    "ax = sns.countplot(x=\"Sentiment_Type\", data=df_str)"
   ]
  },
  {
   "cell_type": "code",
   "execution_count": 29,
   "metadata": {},
   "outputs": [
    {
     "data": {
      "text/plain": [
       "Sentiment_Type\n",
       "Negative     243\n",
       "Neutral      537\n",
       "Positive    1220\n",
       "dtype: int64"
      ]
     },
     "execution_count": 29,
     "metadata": {},
     "output_type": "execute_result"
    }
   ],
   "source": [
    "df_str.groupby('Sentiment_Type').apply(lambda x: (x['Sentiment_Type']).count())"
   ]
  },
  {
   "cell_type": "code",
   "execution_count": null,
   "metadata": {},
   "outputs": [],
   "source": [
    "from wordcloud import WordCloud\n",
    "from wordcloud import WordCloud, STOPWORDS\n",
    "\n",
    "def wc(data,bgcolor,title):\n",
    "    plt.figure(figsize = (100,100))\n",
    "    wc = WordCloud(background_color = bgcolor, max_words = 1000,  max_font_size = 60)\n",
    "    wc.generate(' '.join(data))\n",
    "    plt.imshow(wc, interpolation=\"bilinear\")\n",
    "    plt.axis('off')"
   ]
  },
  {
   "cell_type": "code",
   "execution_count": null,
   "metadata": {},
   "outputs": [],
   "source": [
    "from collections import Counter\n",
    "\n",
    "top_N = 10\n",
    "       \n",
    "\n",
    "# Calculate frequency distribution\n",
    "word_dist = nltk.FreqDist(df['Contents'])\n",
    "rslt = pd.DataFrame(word_dist.most_common(top_N),\n",
    "                    columns=['Word', 'Frequency'])\n",
    "\n",
    "plt.figure(figsize=(10,10))\n",
    "sns.set_style(\"whitegrid\")\n",
    "ax = sns.barplot(x=\"Word\",y=\"Frequency\", data=rslt.head(7))"
   ]
  },
  {
   "cell_type": "code",
   "execution_count": null,
   "metadata": {
    "scrolled": true
   },
   "outputs": [],
   "source": [
    "wc(df['Contents'],'white','Common Words' )"
   ]
  },
  {
   "cell_type": "code",
   "execution_count": null,
   "metadata": {},
   "outputs": [],
   "source": []
  }
 ],
 "metadata": {
  "kernelspec": {
   "display_name": "Python 3",
   "language": "python",
   "name": "python3"
  },
  "language_info": {
   "codemirror_mode": {
    "name": "ipython",
    "version": 3
   },
   "file_extension": ".py",
   "mimetype": "text/x-python",
   "name": "python",
   "nbconvert_exporter": "python",
   "pygments_lexer": "ipython3",
   "version": "3.7.3"
  }
 },
 "nbformat": 4,
 "nbformat_minor": 2
}
