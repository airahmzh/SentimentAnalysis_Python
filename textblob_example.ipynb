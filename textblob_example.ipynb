{
 "cells": [
  {
   "cell_type": "code",
   "execution_count": 9,
   "metadata": {},
   "outputs": [],
   "source": [
    "from textblob import TextBlob"
   ]
  },
  {
   "cell_type": "code",
   "execution_count": 17,
   "metadata": {},
   "outputs": [
    {
     "name": "stdout",
     "output_type": "stream",
     "text": [
      "Sentiment(polarity=0.9, subjectivity=0.875)\n",
      "Sentiment(polarity=-0.46666666666666673, subjectivity=0.5333333333333333)\n",
      "Sentiment(polarity=0.3499999999999999, subjectivity=0.6666666666666666)\n"
     ]
    }
   ],
   "source": [
    "fdbck1 = \" The food is great and delicious\"\n",
    "fdbck2 = \" The food sucks and hate it, don't buy. slow. avoid this place\"\n",
    "fdbck3 = \"food is not bad\"\n",
    "blob1 = TextBlob(fdbck1)\n",
    "blob2 = TextBlob(fdbck2)\n",
    "blob3 = TextBlob(fdbck3)\n",
    "print(blob1.sentiment)\n",
    "print(blob2.sentiment)\n",
    "print(blob3.sentiment)"
   ]
  }
 ],
 "metadata": {
  "kernelspec": {
   "display_name": "Python 3",
   "language": "python",
   "name": "python3"
  },
  "language_info": {
   "codemirror_mode": {
    "name": "ipython",
    "version": 3
   },
   "file_extension": ".py",
   "mimetype": "text/x-python",
   "name": "python",
   "nbconvert_exporter": "python",
   "pygments_lexer": "ipython3",
   "version": "3.7.4"
  }
 },
 "nbformat": 4,
 "nbformat_minor": 2
}
