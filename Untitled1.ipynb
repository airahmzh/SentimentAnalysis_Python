{
 "cells": [
  {
   "cell_type": "code",
   "execution_count": 1,
   "metadata": {},
   "outputs": [],
   "source": [
    "import pandas as pd\n",
    "import numpy as np\n",
    "import seaborn as sns\n",
    "import matplotlib.pyplot as plt\n",
    "%matplotlib inline\n",
    "import re  \n",
    "import nltk\n",
    "import string\n",
    "from bs4 import BeautifulSoup\n",
    "from nltk import sent_tokenize, word_tokenize\n",
    "from nltk.stem.snowball import SnowballStemmer\n",
    "from nltk.stem.wordnet import WordNetLemmatizer\n",
    "from nltk.corpus import stopwords\n",
    "from nltk.tokenize import RegexpTokenizer\n",
    "from textblob import TextBlob"
   ]
  },
  {
   "cell_type": "code",
   "execution_count": 2,
   "metadata": {},
   "outputs": [],
   "source": [
    "df = pd.read_csv('asos_transform.csv')"
   ]
  },
  {
   "cell_type": "code",
   "execution_count": 3,
   "metadata": {},
   "outputs": [
    {
     "data": {
      "text/plain": [
       "\"Rebecca was patient and helpful with my queries, though there seems to be some logistic issues with ASOS delivery. I've only received 1 out of the 4 parcels that were deemed to be delivered on the same day.\""
      ]
     },
     "execution_count": 3,
     "metadata": {},
     "output_type": "execute_result"
    }
   ],
   "source": [
    "df['Contents'][4]"
   ]
  },
  {
   "cell_type": "code",
   "execution_count": 4,
   "metadata": {},
   "outputs": [],
   "source": [
    "def remove_punctuation(text):\n",
    "    no_punct=\"\".join([c for c in text if c not in string.punctuation])\n",
    "    return no_punct"
   ]
  },
  {
   "cell_type": "code",
   "execution_count": 5,
   "metadata": {},
   "outputs": [
    {
     "data": {
      "text/plain": [
       "0    I love ASOS and allCustomer service they are j...\n",
       "1    My order was left outside and the school kids ...\n",
       "2                           Helpful and friendly staff\n",
       "3    Replied quickly and made sure their customers ...\n",
       "4    Rebecca was patient and helpful with my querie...\n",
       "Name: Contents, dtype: object"
      ]
     },
     "execution_count": 5,
     "metadata": {},
     "output_type": "execute_result"
    }
   ],
   "source": [
    "df['Contents'] = df['Contents'].apply(lambda x: remove_punctuation(x))\n",
    "df['Contents'].head()"
   ]
  },
  {
   "cell_type": "code",
   "execution_count": 6,
   "metadata": {},
   "outputs": [],
   "source": [
    "tokenizer = RegexpTokenizer(r'\\w+')"
   ]
  },
  {
   "cell_type": "code",
   "execution_count": 7,
   "metadata": {},
   "outputs": [
    {
     "data": {
      "text/plain": [
       "0     [i, love, asos, and, allcustomer, service, the...\n",
       "1     [my, order, was, left, outside, and, the, scho...\n",
       "2                       [helpful, and, friendly, staff]\n",
       "3     [replied, quickly, and, made, sure, their, cus...\n",
       "4     [rebecca, was, patient, and, helpful, with, my...\n",
       "5     [fast, kind, clear, answer, perfect, that, i, ...\n",
       "6     [it, took, over, 20, minutes, to, be, connecte...\n",
       "7     [terrible, firm, i, had, such, a, bad, time, t...\n",
       "8                   [very, helpful, clear, and, prompt]\n",
       "9     [ordered, a, vivienne, westwood, which, was, d...\n",
       "10    [terrible, paid, for, next, day, delivery, and...\n",
       "11                               [excellent, and, easy]\n",
       "12    [renee, at, asos, was, very, friendly, and, pr...\n",
       "13    [items, ordered, on, 112, on, standard, 35, da...\n",
       "14    [terrible, experience, courier, left, my, parc...\n",
       "15    [no, customer, support, at, allleave, your, me...\n",
       "16    [i, had, issue, with, the, delivery, of, my, o...\n",
       "17    [my, issue, remains, unresolved, and, i, have,...\n",
       "18    [had, an, issue, with, delivery, but, was, sor...\n",
       "19    [awful, experience, no, help, at, all, will, n...\n",
       "Name: Contents, dtype: object"
      ]
     },
     "execution_count": 7,
     "metadata": {},
     "output_type": "execute_result"
    }
   ],
   "source": [
    "df['Contents']=df['Contents'].apply(lambda x: tokenizer.tokenize(x.lower()))\n",
    "df['Contents'].head(20)"
   ]
  },
  {
   "cell_type": "code",
   "execution_count": 8,
   "metadata": {},
   "outputs": [],
   "source": [
    "def remove_stopwords(text):\n",
    "    words = [w for w in text if w not in stopwords.words('english')]\n",
    "    return words"
   ]
  },
  {
   "cell_type": "code",
   "execution_count": 9,
   "metadata": {},
   "outputs": [
    {
     "data": {
      "text/plain": [
       "0         [love, asos, allcustomer, service, adorable]\n",
       "1    [order, left, outside, school, kids, ransacked...\n",
       "2                           [helpful, friendly, staff]\n",
       "3     [replied, quickly, made, sure, customers, happy]\n",
       "4    [rebecca, patient, helpful, queries, though, s...\n",
       "5    [fast, kind, clear, answer, perfect, love, aso...\n",
       "6    [took, 20, minutes, connected, online, chat, s...\n",
       "7    [terrible, firm, bad, time, trying, get, deliv...\n",
       "8                             [helpful, clear, prompt]\n",
       "9    [ordered, vivienne, westwood, delivered, time,...\n",
       "Name: Contents, dtype: object"
      ]
     },
     "execution_count": 9,
     "metadata": {},
     "output_type": "execute_result"
    }
   ],
   "source": [
    "df['Contents']= df['Contents'].apply(lambda x : remove_stopwords(x))\n",
    "df['Contents'].head(10)"
   ]
  },
  {
   "cell_type": "code",
   "execution_count": 10,
   "metadata": {},
   "outputs": [],
   "source": [
    "#Instatiate Stemmer\n",
    "stemmer = SnowballStemmer('english')"
   ]
  },
  {
   "cell_type": "code",
   "execution_count": 11,
   "metadata": {},
   "outputs": [],
   "source": [
    "def word_stemmer(text):\n",
    "    stem_text = \" \".join([stemmer.stem(i) for i in text])\n",
    "    return stem_text"
   ]
  },
  {
   "cell_type": "code",
   "execution_count": 12,
   "metadata": {},
   "outputs": [
    {
     "data": {
      "text/plain": [
       "0                       love aso allcustom servic ador\n",
       "1    order left outsid school kid ransack howev her...\n",
       "2                                    help friend staff\n",
       "3                   repli quick made sure custom happi\n",
       "4    rebecca patient help queri though seem logist ...\n",
       "5       fast kind clear answer perfect love aso servic\n",
       "6    took 20 minut connect onlin chat servic upon w...\n",
       "7    terribl firm bad time tri get deliv wont use u...\n",
       "8                                    help clear prompt\n",
       "9    order vivienn westwood deliv time arriv seal w...\n",
       "Name: Contents, dtype: object"
      ]
     },
     "execution_count": 12,
     "metadata": {},
     "output_type": "execute_result"
    }
   ],
   "source": [
    "df['Contents']=df['Contents'].apply(lambda x:word_stemmer(x))\n",
    "df['Contents'].head(10)"
   ]
  },
  {
   "cell_type": "code",
   "execution_count": 13,
   "metadata": {},
   "outputs": [],
   "source": [
    "df_results = df['Contents'].apply(lambda x: TextBlob(x).sentiment)"
   ]
  },
  {
   "cell_type": "code",
   "execution_count": 14,
   "metadata": {},
   "outputs": [
    {
     "name": "stdout",
     "output_type": "stream",
     "text": [
      "0                                      (0.5, 0.6)\n",
      "1                      (0.19999999999999998, 0.3)\n",
      "2                                      (0.0, 0.0)\n",
      "3       (0.41666666666666663, 0.6944444444444444)\n",
      "4                                      (0.0, 0.0)\n",
      "                          ...                    \n",
      "1995                   (0.3181818181818182, 0.55)\n",
      "1996                                  (0.8, 0.75)\n",
      "1997                                   (0.2, 0.6)\n",
      "1998                                   (0.0, 0.0)\n",
      "1999                                   (0.0, 0.0)\n",
      "Name: Contents, Length: 2000, dtype: object\n"
     ]
    }
   ],
   "source": [
    "print(df_results)"
   ]
  },
  {
   "cell_type": "code",
   "execution_count": 15,
   "metadata": {},
   "outputs": [
    {
     "data": {
      "image/png": "[encoded data removed]",
      "text/plain": [
       "<Figure size 720x720 with 1 Axes>"
      ]
     },
     "metadata": {
      "needs_background": "light"
     },
     "output_type": "display_data"
    }
   ],
   "source": [
    "bloblist_tags = list()\n",
    "\n",
    "df_str =df['Contents']\n",
    "for row in df_str:\n",
    "    blob = TextBlob(row)\n",
    "    bloblist_tags.append((row,blob.sentiment.polarity, blob.sentiment.subjectivity))\n",
    "    df_str = pd.DataFrame(bloblist_tags, columns = ['sentence','sentiment','polarity'])\n",
    "\n",
    "def f_tags(df_str):\n",
    "    if df_str['sentiment'] > 0:\n",
    "        val = \"Positive\"\n",
    "    elif df_str['sentiment'] == 0:\n",
    "        val = \"Neutral\"\n",
    "    else:\n",
    "        val = \"Negative\"\n",
    "    return val\n",
    "\n",
    "df_str['Sentiment_Type'] = df_str.apply(f_tags, axis=1)\n",
    "\n",
    "plt.figure(figsize=(10,10))\n",
    "sns.set_style(\"whitegrid\")\n",
    "ax = sns.countplot(x=\"Sentiment_Type\", data=df_str)"
   ]
  },
  {
   "cell_type": "code",
   "execution_count": null,
   "metadata": {},
   "outputs": [],
   "source": []
  }
 ],
 "metadata": {
  "kernelspec": {
   "display_name": "Python 3",
   "language": "python",
   "name": "python3"
  },
  "language_info": {
   "codemirror_mode": {
    "name": "ipython",
    "version": 3
   },
   "file_extension": ".py",
   "mimetype": "text/x-python",
   "name": "python",
   "nbconvert_exporter": "python",
   "pygments_lexer": "ipython3",
   "version": "3.7.4"
  }
 },
 "nbformat": 4,
 "nbformat_minor": 2
}
